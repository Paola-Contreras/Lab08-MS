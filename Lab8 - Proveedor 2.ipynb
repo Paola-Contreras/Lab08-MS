{
  "nbformat": 4,
  "nbformat_minor": 0,
  "metadata": {
    "colab": {
      "provenance": []
    },
    "kernelspec": {
      "name": "python3",
      "display_name": "Python 3"
    },
    "language_info": {
      "name": "python"
    }
  },
  "cells": [
    {
      "cell_type": "markdown",
      "source": [
        "# Proveedor 2 - Pizzita computing"
      ],
      "metadata": {
        "id": "N5ziYBaQLByO"
      }
    },
    {
      "cell_type": "code",
      "execution_count": 1,
      "metadata": {
        "colab": {
          "base_uri": "https://localhost:8080/"
        },
        "id": "Huc1LHoCK8cE",
        "outputId": "a6ffaf20-f6b3-42be-a37d-dad1333cc611"
      },
      "outputs": [
        {
          "output_type": "stream",
          "name": "stdout",
          "text": [
            "Requirement already satisfied: simpy in /usr/local/lib/python3.10/dist-packages (4.0.2)\n"
          ]
        }
      ],
      "source": [
        "!pip install simpy"
      ]
    },
    {
      "cell_type": "code",
      "source": [
        "import simpy\n",
        "import random"
      ],
      "metadata": {
        "id": "GDm8j7z2NBLL"
      },
      "execution_count": 2,
      "outputs": []
    },
    {
      "cell_type": "markdown",
      "source": [
        "# Task 1"
      ],
      "metadata": {
        "id": "scwq30CqN8lk"
      }
    },
    {
      "cell_type": "code",
      "source": [
        "import simpy\n",
        "import random\n",
        "\n",
        "# Parámetros iniciales del sistema\n",
        "num_servers = 10  # Número de servidores\n",
        "total_sim_time = 3600  # 1 hora en segundos\n",
        "arrival_rate = 2400 / 60  # Tasa de llegada de solicitudes por segundo\n",
        "service_rate = 1 / 600  # Tasa de servicio de solicitudes por segundo\n",
        "\n",
        "# Listas para recopilar datos\n",
        "tiempos_atendidos = []\n",
        "tiempos_ocupados = []\n",
        "tiempos_desocupados = []\n",
        "tiempos_en_cola = []\n",
        "\n",
        "# Definir un generador de llegada de solicitudes\n",
        "def arrival(env, servers, arrival_rate, service_rate):\n",
        "    i = 0\n",
        "    while True:\n",
        "        yield env.timeout(random.expovariate(arrival_rate))\n",
        "        i += 1\n",
        "        env.process(request(env, f'Solicitud {i}', servers, service_rate))\n",
        "\n",
        "# Definir el proceso de solicitud\n",
        "def request(env, name, servers, service_rate):\n",
        "    global tiempos_atendidos, tiempos_en_cola\n",
        "    with servers.request() as req:\n",
        "        start = env.now\n",
        "        yield req\n",
        "        tiempos_atendidos.append(env.now - start)\n",
        "        yield env.timeout(random.expovariate(service_rate))\n",
        "        tiempos_en_cola.append(len(servers.queue))\n",
        "        tiempos_ocupados.append(env.now - start)\n",
        "        tiempos_desocupados.append(start - env.now)\n",
        "\n",
        "# Inicializar el entorno de simulación\n",
        "env = simpy.Environment()\n",
        "servers = simpy.Resource(env, num_servers)\n",
        "\n",
        "# Iniciar la simulación\n",
        "env.process(arrival(env, servers, arrival_rate, service_rate))\n",
        "env.run(until=total_sim_time)\n",
        "\n",
        "# Respuestas a las preguntas de la tarea 1\n",
        "print(f'a. Cantidad de solicitudes atendidas por cada servidor: {len(tiempos_atendidos) / num_servers}')\n",
        "print(f'b. Tiempo total en que estuvo cada servidor ocupado: {sum(tiempos_ocupados)} segundos')\n",
        "print(f'c. Tiempo total en que estuvo cada servidor desocupado: {sum(tiempos_desocupados)} segundos')\n",
        "print(f'd. Tiempo total en que las solicitudes estuvieron en cola: {sum(tiempos_en_cola)} segundos')\n",
        "print(f'e. Promedio de tiempo en cola por solicitud: {sum(tiempos_en_cola) / len(tiempos_en_cola)} segundos')\n",
        "print(f'f. Promedio de solicitudes en cola por segundo: {sum(tiempos_en_cola) / total_sim_time} solicitudes')\n",
        "print(f'g. Momento de salida de la última solicitud: {max(tiempos_atendidos) + max(tiempos_ocupados)} segundos')\n"
      ],
      "metadata": {
        "colab": {
          "base_uri": "https://localhost:8080/"
        },
        "id": "1cliT0o5NFM3",
        "outputId": "30e4d168-b03d-4c99-af0d-c785327ea70d"
      },
      "execution_count": 3,
      "outputs": [
        {
          "output_type": "stream",
          "name": "stdout",
          "text": [
            "a. Cantidad de solicitudes atendidas por cada servidor: 8.0\n",
            "b. Tiempo total en que estuvo cada servidor ocupado: 126246.46942291802 segundos\n",
            "c. Tiempo total en que estuvo cada servidor desocupado: -126246.46942291802 segundos\n",
            "d. Tiempo total en que las solicitudes estuvieron en cola: 5042215 segundos\n",
            "e. Promedio de tiempo en cola por solicitud: 72031.64285714286 segundos\n",
            "f. Promedio de solicitudes en cola por segundo: 1400.6152777777777 solicitudes\n",
            "g. Momento de salida de la última solicitud: 7180.895526419169 segundos\n"
          ]
        }
      ]
    },
    {
      "cell_type": "markdown",
      "source": [
        "#Task 2"
      ],
      "metadata": {
        "id": "2FRb-JL_OFaa"
      }
    },
    {
      "cell_type": "code",
      "source": [
        "import simpy\n",
        "import random\n"
      ],
      "metadata": {
        "id": "2LR6aPvCOGSR"
      },
      "execution_count": 4,
      "outputs": []
    },
    {
      "cell_type": "code",
      "source": [
        "import simpy\n",
        "import random\n",
        "\n",
        "# Parámetros iniciales del sistema\n",
        "num_servers = 1  # Número inicial de servidores\n",
        "total_sim_time = 60 * 60  # 1 hora en segundos\n",
        "arrival_rate = 2400 / 60  # Tasa de llegada de solicitudes por segundo\n",
        "service_rate = 1 / 600  # Tasa de servicio de solicitudes por segundo\n",
        "servers_needed = 0\n",
        "busy_servers = 0\n",
        "\n",
        "# Definir un generador de llegada de solicitudes\n",
        "def arrival(env, servers, arrival_rate, service_rate):\n",
        "    i = 0\n",
        "    while True:\n",
        "        yield env.timeout(random.expovariate(arrival_rate))\n",
        "        i += 1\n",
        "        env.process(request(env, f'Solicitud {i}', servers, service_rate))\n",
        "\n",
        "# Definir el proceso de solicitud\n",
        "def request(env, name, servers, service_rate):\n",
        "    global servers_needed, busy_servers\n",
        "    if 'servers_needed' not in globals():\n",
        "        servers_needed = 0\n",
        "    with servers.request() as req:\n",
        "        if servers.count == busy_servers:\n",
        "            servers_needed = max(servers_needed, servers.count + 1)\n",
        "        busy_servers = servers.count\n",
        "        yield req\n",
        "        busy_servers -= 1\n",
        "        yield env.timeout(random.expovariate(service_rate))\n",
        "\n",
        "# Inicializar el entorno de simulación\n",
        "env = simpy.Environment()\n",
        "servers = simpy.Resource(env, num_servers)\n",
        "\n",
        "# Iniciar la simulación\n",
        "env.process(arrival(env, servers, arrival_rate, service_rate))\n",
        "env.run(until=total_sim_time)\n",
        "\n",
        "print(f\"Se necesitan al menos {servers_needed} servidores para garantizar que siempre haya al menos un servidor disponible.\")\n"
      ],
      "metadata": {
        "colab": {
          "base_uri": "https://localhost:8080/"
        },
        "id": "eEYIXipxOPbk",
        "outputId": "e5d2a8d1-ad91-47cd-9c10-7b2d6943222f"
      },
      "execution_count": 5,
      "outputs": [
        {
          "output_type": "stream",
          "name": "stdout",
          "text": [
            "Se necesitan al menos 2 servidores para garantizar que siempre haya al menos un servidor disponible.\n"
          ]
        }
      ]
    },
    {
      "cell_type": "markdown",
      "source": [
        "# Task 3"
      ],
      "metadata": {
        "id": "hsXpKOcrQf2C"
      }
    },
    {
      "cell_type": "code",
      "source": [
        "import simpy\n",
        "import random\n",
        "\n",
        "# Parámetros iniciales del sistema\n",
        "num_servers = 10  # Número de servidores\n",
        "total_sim_time = 3600  # 1 hora en segundos\n",
        "arrival_rate_initial = 2400 / 60  # Tasa de llegada inicial de solicitudes por segundo\n",
        "arrival_rate_new = 6000 / 60  # Nueva tasa de llegada de solicitudes por segundo\n",
        "service_rate = 1 / 600  # Tasa de servicio de solicitudes por segundo\n",
        "servers_needed = 0\n",
        "\n",
        "# Definir un generador de llegada de solicitudes\n",
        "def arrival(env, servers, arrival_rate, service_rate):\n",
        "    i = 0\n",
        "    while True:\n",
        "        yield env.timeout(random.expovariate(arrival_rate))\n",
        "        i += 1\n",
        "        env.process(request(env, f'Solicitud {i}', servers, service_rate))\n",
        "\n",
        "# Definir el proceso de solicitud\n",
        "def request(env, name, servers, service_rate):\n",
        "    with servers.request() as req:\n",
        "        yield req\n",
        "        yield env.timeout(random.expovariate(service_rate))\n",
        "\n",
        "# Inicializar el entorno de simulación para el nuevo caso\n",
        "env = simpy.Environment()\n",
        "servers_new = simpy.Resource(env, num_servers)\n",
        "wait_times = []\n",
        "queue_lengths = []\n",
        "\n",
        "# Función de solicitud para el nuevo caso\n",
        "def request_new(env, name, servers, service_rate):\n",
        "    with servers.request() as req:\n",
        "        arrival_time = env.now\n",
        "        yield req\n",
        "        wait_times.append(env.now - arrival_time)\n",
        "        queue_lengths.append(len(servers.queue))\n",
        "        yield env.timeout(random.expovariate(service_rate))\n",
        "\n",
        "# Proceso de llegada de solicitudes para el nuevo caso\n",
        "def arrival_new(env, servers, arrival_rate, service_rate):\n",
        "    i = 0\n",
        "    while True:\n",
        "        yield env.timeout(random.expovariate(arrival_rate))\n",
        "        i += 1\n",
        "        env.process(request_new(env, f'Solicitud {i}', servers, service_rate))\n",
        "\n",
        "# Iniciar la simulación para el nuevo caso\n",
        "env.process(arrival_new(env, servers_new, arrival_rate_new, service_rate))\n",
        "env.run(until=total_sim_time)\n",
        "\n",
        "# Resultados para el nuevo caso\n",
        "# a. Cantidad de solicitudes atendidas por cada servidor\n",
        "solicitudes_atendidas_por_servidor = total_sim_time / service_rate / num_servers\n",
        "print(f\"Solicitudes atendidas por cada servidor: {solicitudes_atendidas_por_servidor}\")\n",
        "\n",
        "# b. Tiempo total en que estuvo cada servidor ocupado\n",
        "tiempo_total_ocupado_por_servidor = sum(wait_times) + total_sim_time / num_servers\n",
        "print(f\"Tiempo total en que estuvo cada servidor ocupado: {tiempo_total_ocupado_por_servidor}\")\n",
        "\n",
        "# c. Tiempo total en que estuvo cada servidor desocupado (idle)\n",
        "tiempo_total_desocupado_por_servidor = total_sim_time - tiempo_total_ocupado_por_servidor\n",
        "print(f\"Tiempo total en que estuvo cada servidor desocupado: {tiempo_total_desocupado_por_servidor}\")\n",
        "\n",
        "# d. Tiempo total en que las solicitudes estuvieron en cola\n",
        "tiempo_total_en_cola = sum(wait_times)\n",
        "print(f\"Tiempo total en que las solicitudes estuvieron en cola: {tiempo_total_en_cola}\")\n",
        "\n",
        "# e. Promedio de tiempo en cola por solicitud\n",
        "promedio_tiempo_en_cola = tiempo_total_en_cola / len(wait_times)\n",
        "print(f\"Promedio de tiempo en cola por solicitud: {promedio_tiempo_en_cola}\")\n",
        "\n",
        "# f. Promedio de solicitudes en cola por segundo\n",
        "promedio_solicitudes_en_cola_por_segundo = sum(queue_lengths) / total_sim_time\n",
        "print(f\"Promedio de solicitudes en cola por segundo: {promedio_solicitudes_en_cola_por_segundo}\")\n",
        "\n",
        "# g. Momento de salida de la última solicitud\n",
        "momento_salida_ultima_solicitud = max(wait_times) + total_sim_time\n",
        "print(f\"Momento de salida de la última solicitud: {momento_salida_ultima_solicitud}\")\n",
        "\n",
        "\n",
        "\n"
      ],
      "metadata": {
        "colab": {
          "base_uri": "https://localhost:8080/"
        },
        "id": "ee-DcrncPKq3",
        "outputId": "3c85c1a5-57e7-4106-f17e-8a8bb70d0c02"
      },
      "execution_count": 6,
      "outputs": [
        {
          "output_type": "stream",
          "name": "stdout",
          "text": [
            "Solicitudes atendidas por cada servidor: 216000.0\n",
            "Tiempo total en que estuvo cada servidor ocupado: 104751.98266795259\n",
            "Tiempo total en que estuvo cada servidor desocupado: -101151.98266795259\n",
            "Tiempo total en que las solicitudes estuvieron en cola: 104391.98266795259\n",
            "Promedio de tiempo en cola por solicitud: 1470.3096150415856\n",
            "Promedio de solicitudes en cola por segundo: 2907.5375\n",
            "Momento de salida de la última solicitud: 7101.735293471835\n"
          ]
        }
      ]
    },
    {
      "cell_type": "code",
      "source": [
        "# Tarea 2: Determinar la cantidad de servidores necesarios para garantizar que siempre haya al menos un servidor disponible\n",
        "servers_needed = 0\n",
        "total_sim_time = 2 * 3600  # 2 horas en segundos, o cualquier valor mayor si es necesario\n",
        "\n",
        "def check_servers_new(env, servers, arrival_rate, service_rate):\n",
        "    global servers_needed\n",
        "    while True:\n",
        "        yield env.timeout(1)  # Verificar cada segundo\n",
        "        if servers.count < 1:\n",
        "            servers_needed = max(servers_needed, 1)\n",
        "\n",
        "# Iniciar la simulación para el nuevo caso\n",
        "env.process(arrival_new(env, servers_new, arrival_rate_new, service_rate))\n",
        "env.process(check_servers_new(env, servers_new, arrival_rate_new, service_rate))\n",
        "env.run(until=total_sim_time)\n",
        "\n",
        "print(f\"Se necesitan al menos {servers_needed} servidores para garantizar que siempre haya al menos un servidor disponible.\")"
      ],
      "metadata": {
        "colab": {
          "base_uri": "https://localhost:8080/"
        },
        "id": "F3Hs2NVDUPLT",
        "outputId": "99249e4b-bed1-4a31-93c2-5622387e85af"
      },
      "execution_count": 8,
      "outputs": [
        {
          "output_type": "stream",
          "name": "stdout",
          "text": [
            "Se necesitan al menos 0 servidores para garantizar que siempre haya al menos un servidor disponible.\n"
          ]
        }
      ]
    }
  ]
}